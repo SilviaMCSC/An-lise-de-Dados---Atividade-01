{
  "nbformat": 4,
  "nbformat_minor": 0,
  "metadata": {
    "colab": {
      "provenance": [],
      "authorship_tag": "ABX9TyOeLtwEcY+OVlBl2s5cN4zA",
      "include_colab_link": true
    },
    "kernelspec": {
      "name": "python3",
      "display_name": "Python 3"
    },
    "language_info": {
      "name": "python"
    }
  },
  "cells": [
    {
      "cell_type": "markdown",
      "metadata": {
        "id": "view-in-github",
        "colab_type": "text"
      },
      "source": [
        "<a href=\"https://colab.research.google.com/github/SilviaMCSC/An-lise-de-Dados---Atividade-01/blob/main/Atividade_Tri%C3%A2ngulos.ipynb\" target=\"_parent\"><img src=\"https://colab.research.google.com/assets/colab-badge.svg\" alt=\"Open In Colab\"/></a>"
      ]
    },
    {
      "cell_type": "markdown",
      "source": [
        "\n",
        "1 - Escreva um programa que aceite os comprimentos de três lados de um\n",
        "triângulo como entradas.\n",
        "\n",
        "A saída do programa deve indicar se o triângulo é ou\n",
        "não um triângulo equilátero."
      ],
      "metadata": {
        "id": "Y_3Mj4DQ4-w7"
      }
    },
    {
      "cell_type": "code",
      "execution_count": 1,
      "metadata": {
        "colab": {
          "base_uri": "https://localhost:8080/"
        },
        "id": "Gp8wUJc0490P",
        "outputId": "4c2b2cc1-d331-4261-adbc-b09d3a2ce41c"
      },
      "outputs": [
        {
          "output_type": "stream",
          "name": "stdout",
          "text": [
            "Digite o comprimento do primeiro lado do triângulo: 5\n",
            "Digite o comprimento do segundo lado do triângulo: 5\n",
            "Digite o comprimento do terceiro lado do triângulo: 5\n",
            " Esse triângulo é equilátero\n"
          ]
        }
      ],
      "source": [
        "# Input para o usuário digitar  os tamanhos dos triângulos. Fiz com float porque a\n",
        "# o tamanho pode ser com ponto flutuante.\n",
        "lado1 = float(input(\"Digite o comprimento do primeiro lado do triângulo: \"))\n",
        "lado2 = float(input(\"Digite o comprimento do segundo lado do triângulo: \"))\n",
        "lado3 = float(input(\"Digite o comprimento do terceiro lado do triângulo: \"))\n",
        "\n",
        "\n",
        "if lado1 == lado2 == lado3: #Condição para que os lados sejam iguais. Se forem o programa encerra aqui.\n",
        "\n",
        "  print(\" Esse triângulo é equilátero\")\n",
        "else:                                  # Caso a condição não seja True, o progra encerra aqui.\n",
        "  print(\"Esse triânagulo não é equilátero\")"
      ]
    },
    {
      "cell_type": "markdown",
      "source": [
        "2 - Escreva um programa que aceite os comprimentos de três lados de um\n",
        "triângulo como entradas.\n",
        " A saída do programa deve indicar se o triângulo é ou\n",
        "não um triângulo retângulo.\n",
        "Lembre-se do teorema de Pitágoras que, em um\n",
        "triângulo retângulo, o quadrado de um lado é igual à soma dos quadrados dos\n",
        "outros dois lados."
      ],
      "metadata": {
        "id": "c6z5gfWQ7F2d"
      }
    },
    {
      "cell_type": "code",
      "source": [
        "# Input para o usuário digitar  os tamanhos dos triângulos. Fiz com float porque a\n",
        "# o tamanho pode ser com ponto flutuante.\n",
        "\n",
        "lado1 = float(input(\"Digite o comprimento do primeiro lado do triângulo: \"))\n",
        "lado2 = float(input(\"Digite o comprimento do segundo lado do triângulo: \"))\n",
        "lado3 = float(input(\"Digite o comprimento do terceiro lado do triângulo: \"))\n",
        "\n",
        "\n",
        "# Lógica para verificação dos lados do triângulo\n",
        "if lado1 > lado2 and lado1 > lado3:\n",
        "    hipotenusa = lado1 # se as duas opções forem verdadeiras a hipotenusa receberá o valor do lado2\n",
        "    cateto1 = lado2\n",
        "    cateto2 = lado3\n",
        "elif lado2 > lado1 and lado2 > lado3:  # Se as condições acima derem False, o laço entra aqui\n",
        "    hipotenusa = lado2\n",
        "    cateto1 = lado1\n",
        "    cateto2 = lado3\n",
        "else:              # se as opções acima derem False o programa encerra aqui.\n",
        "\n",
        "    hipotenusa = lado3\n",
        "    cateto1 = lado1\n",
        "    cateto2 = lado2\n",
        "\n",
        "\n",
        "# Regra do teorema de pitágoras\n",
        "if hipotenusa ** 2 == cateto1 ** 2 + cateto2 ** 2:\n",
        "    print(\"Esse triângulo é retângulo.\")\n",
        "else:\n",
        "    print(\"Esse triângulo não é retângulo\")\n",
        "\n"
      ],
      "metadata": {
        "colab": {
          "base_uri": "https://localhost:8080/"
        },
        "id": "gOEFM29K7HEs",
        "outputId": "afb38123-d120-4d88-85cb-a75515e23c9c"
      },
      "execution_count": null,
      "outputs": [
        {
          "output_type": "stream",
          "name": "stdout",
          "text": [
            "Digite o comprimento do primeiro lado do triângulo: 10\n",
            "Digite o comprimento do segundo lado do triângulo: 4\n",
            "Digite o comprimento do terceiro lado do triângulo: 6\n",
            "Esse triângulo não é retângulo\n"
          ]
        }
      ]
    }
  ]
}