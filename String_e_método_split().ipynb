{
  "nbformat": 4,
  "nbformat_minor": 0,
  "metadata": {
    "colab": {
      "provenance": [],
      "authorship_tag": "ABX9TyMQIj2iwv4BXnCL71v/SUp5",
      "include_colab_link": true
    },
    "kernelspec": {
      "name": "python3",
      "display_name": "Python 3"
    },
    "language_info": {
      "name": "python"
    }
  },
  "cells": [
    {
      "cell_type": "markdown",
      "metadata": {
        "id": "view-in-github",
        "colab_type": "text"
      },
      "source": [
        "<a href=\"https://colab.research.google.com/github/SilviaMCSC/An-lise-de-Dados---Atividade-01/blob/main/String_e_m%C3%A9todo_split().ipynb\" target=\"_parent\"><img src=\"https://colab.research.google.com/assets/colab-badge.svg\" alt=\"Open In Colab\"/></a>"
      ]
    },
    {
      "cell_type": "code",
      "execution_count": null,
      "metadata": {
        "colab": {
          "base_uri": "https://localhost:8080/"
        },
        "id": "bAFZDYUw_P2H",
        "outputId": "4ba02a02-7ec4-4b1e-a037-735e692980a9"
      },
      "outputs": [
        {
          "output_type": "stream",
          "name": "stdout",
          "text": [
            "['Hoje', 'é', 'um', 'lindo', 'dia', 'ensolarado']\n"
          ]
        }
      ],
      "source": [
        "sentence = \"Hoje é um lindo dia ensolarado\" # variável recebendo uma String\n",
        "palavras = sentence.split() # método split() sendo chamado para transformar a String e uma nova lista\n",
        "                            # uma substring que será perada de acordo com os espaços\n",
        "                            # as substrings estão sendo armazenadas em uma nova variável  chamada de palavras\n",
        "\n",
        "print(palavras) # impressão da nova variável palavras\n",
        "\n"
      ]
    }
  ]
}