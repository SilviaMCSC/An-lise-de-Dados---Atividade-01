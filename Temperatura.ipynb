{
  "nbformat": 4,
  "nbformat_minor": 0,
  "metadata": {
    "colab": {
      "provenance": [],
      "authorship_tag": "ABX9TyM5oEV7c9B2I2aBwdjXb0BD",
      "include_colab_link": true
    },
    "kernelspec": {
      "name": "python3",
      "display_name": "Python 3"
    },
    "language_info": {
      "name": "python"
    }
  },
  "cells": [
    {
      "cell_type": "markdown",
      "metadata": {
        "id": "view-in-github",
        "colab_type": "text"
      },
      "source": [
        "<a href=\"https://colab.research.google.com/github/SilviaMCSC/An-lise-de-Dados---Atividade-01/blob/main/Temperatura.ipynb\" target=\"_parent\"><img src=\"https://colab.research.google.com/assets/colab-badge.svg\" alt=\"Open In Colab\"/></a>"
      ]
    },
    {
      "cell_type": "markdown",
      "source": [
        "\n",
        "Crie um programa em Python que converta a temperatura de Celsius para Fahrenheit\n",
        "ou de Fahrenheit para Celsius, dependendo da escolha do usuário.\n",
        "\n",
        "Requisitos:\n",
        "\n",
        "O programa deve perguntar ao usuário qual tipo de conversão ele deseja realizar:\n",
        "\n",
        "de Celsius para Fahrenheit ou de Fahrenheit para Celsius.\n",
        "\n",
        "Após a escolha, o programa deve solicitar ao usuário que insira a temperatura a ser convertida.\n",
        "\n",
        "Para converter de Celsius para Fahrenheit, utilize a fórmula: Fahrenheit =\n",
        "(Celsius  * 9/5) + 32.\n",
        "\n",
        " Para converter de Fahrenheit para Celsius, utilize a fórmula:\n",
        "Celsius = (Fahrenheit - 32) *  5/9.\n",
        "\n",
        "O resultado da conversão deve ser exibido na tela\n",
        "com uma mensagem apropriada."
      ],
      "metadata": {
        "id": "kxjTOGtAKBzg"
      }
    },
    {
      "cell_type": "code",
      "execution_count": null,
      "metadata": {
        "colab": {
          "base_uri": "https://localhost:8080/"
        },
        "id": "XJ5_jl-sJ_WJ",
        "outputId": "69526fbe-241a-4909-9cdd-52c16cc22078"
      },
      "outputs": [
        {
          "output_type": "stream",
          "name": "stdout",
          "text": [
            "Digite um número que represente sua escolha: 2\n",
            "Digite a temperatura em Celsius: 10\n",
            "A temperatura em Fahrenheit é: 50.00\n"
          ]
        }
      ],
      "source": [
        "while True:# Looping para o caso de o usuário não escolher a opção correta.\n",
        "    try: # o usuário deve tentar. Ver se a opção dele é a que foi solicitada\n",
        "        escolha = int(input(\"Digite um número que represente sua escolha: \"))# input para o usuário escolher um número integer\n",
        "                                                                             # Aqui deve ser int pois as duas opções são nºs interiros\n",
        "\n",
        "        if escolha == 1: # entra a  condição para a escolha 1\n",
        "            fahrenheit = float(input(\"Digite a temperatura em Fahrenheit: \")) # input e float para ser mais ampla a escolha do usuário\n",
        "            celsius = (fahrenheit - 32) * 5/9 # fómula para o cálculo de farenheit para celsius\n",
        "            print(f\"A temperatura em Celsius é: {celsius:.2f}\") # f-string para formatação do objeto que deve estar entre chaves\n",
        "                                                                # os : significa que esse objeto deve ser formatado da seguinte forma:\n",
        "                                                                # duas casas decimais e deve ser em float.\n",
        "            break # se as escolha for 1 o programa para aqui!\n",
        "\n",
        "        elif escolha == 2: # entra a  condição para a escolha 2\n",
        "            celsius = float(input(\"Digite a temperatura em Celsius: \")) # input e float para ser mais ampla a escolha do usuário\n",
        "            fahrenheit = (celsius * 9/5) + 32 # fómula para o cálculo de celsius para farenheit\n",
        "            print(f\"A temperatura em Fahrenheit é: {fahrenheit:.2f}\") # f-string para formatação do objeto que deve estar entre chaves\n",
        "                                                                      # os : significa que esse objeto deve ser formatado da seguinte forma:\n",
        "                                                                      # duas casas decimais e deve ser em float.\n",
        "            break # se as escolha for 2 o programa pára aqui!\n",
        "\n",
        "        else: # se o usuário não escolher nenhuma das opções acima, então o programa entra aqui.\n",
        "            print(\"Você precisa escolher uma opção válida\") # mensagem impressa para que seja escolhida uma opção válida\n",
        "\n",
        "    except ValueError: # encerra o looping while. Se a opção escolhida for inválida essa linha permite ao usário\n",
        "                       #acessar a caixa de texto para dessa vez digitar corretamente a opção válida\n",
        "        print(\"Você precisa digitar um número válido\") # impressão\n",
        "\n",
        "\n",
        "\n",
        "\n",
        "\n"
      ]
    }
  ]
}