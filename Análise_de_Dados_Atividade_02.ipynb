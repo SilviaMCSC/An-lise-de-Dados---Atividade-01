{
  "nbformat": 4,
  "nbformat_minor": 0,
  "metadata": {
    "colab": {
      "provenance": [],
      "toc_visible": true,
      "authorship_tag": "ABX9TyMMHkwKIctqTNv2KJjPLsS0",
      "include_colab_link": true
    },
    "kernelspec": {
      "name": "python3",
      "display_name": "Python 3"
    },
    "language_info": {
      "name": "python"
    }
  },
  "cells": [
    {
      "cell_type": "markdown",
      "metadata": {
        "id": "view-in-github",
        "colab_type": "text"
      },
      "source": [
        "<a href=\"https://colab.research.google.com/github/SilviaMCSC/An-lise-de-Dados---Atividade-01/blob/main/An%C3%A1lise_de_Dados_Atividade_02.ipynb\" target=\"_parent\"><img src=\"https://colab.research.google.com/assets/colab-badge.svg\" alt=\"Open In Colab\"/></a>"
      ]
    },
    {
      "cell_type": "markdown",
      "source": [
        "#Atividade 01"
      ],
      "metadata": {
        "id": "Box0Ha7Qu-s0"
      }
    },
    {
      "cell_type": "markdown",
      "source": [
        "Crie uma variável para armazenar seu nome e imprima seu tipo de dado."
      ],
      "metadata": {
        "id": "-E1XKiIGvFfh"
      }
    },
    {
      "cell_type": "code",
      "source": [
        "nome = 'Silvia Matos Carvalho' # Variável criada\n",
        "print(nome) # imprimindo a variável nome\n",
        "print(type(nome)) # imprimindo o tipo da varável"
      ],
      "metadata": {
        "colab": {
          "base_uri": "https://localhost:8080/"
        },
        "id": "d5TB2n1fvI2_",
        "outputId": "270d684b-562a-47a3-9dd5-735e53a2297f"
      },
      "execution_count": null,
      "outputs": [
        {
          "output_type": "stream",
          "name": "stdout",
          "text": [
            "Silvia Matos Carvalho\n",
            "<class 'str'>\n"
          ]
        }
      ]
    },
    {
      "cell_type": "markdown",
      "source": [
        "# Atividade 02"
      ],
      "metadata": {
        "id": "sE4Sjj2ivpl6"
      }
    },
    {
      "cell_type": "markdown",
      "source": [
        "Declare duas variáveis, uma com um valor inteiro e outra com um valor\n",
        "float. Imprima o resultado da soma das duas variáveis."
      ],
      "metadata": {
        "id": "28uPxq0Xvx6q"
      }
    },
    {
      "cell_type": "markdown",
      "source": [],
      "metadata": {
        "id": "eGWUkYb5u8V6"
      }
    },
    {
      "cell_type": "code",
      "source": [
        "idade = 43 # variável declarada do tipo int\n",
        "altura = 1.76 # varável declarada do tipo flot\n",
        "soma = idade + altura # soma das duas varáveis\n",
        "print(\"A soma da idade com a altura é:\", soma) # imprimindo a soma das duas varáveis"
      ],
      "metadata": {
        "colab": {
          "base_uri": "https://localhost:8080/"
        },
        "id": "KvZWZ1YUv2uK",
        "outputId": "3ccf9f21-b125-4e02-f3c3-5a0a7357388f"
      },
      "execution_count": null,
      "outputs": [
        {
          "output_type": "stream",
          "name": "stdout",
          "text": [
            "A soma da idade com a altura é: 44.76\n"
          ]
        }
      ]
    },
    {
      "cell_type": "markdown",
      "source": [
        "# Atividade 03"
      ],
      "metadata": {
        "id": "pq5ww1yjxDHC"
      }
    },
    {
      "cell_type": "markdown",
      "source": [
        "Verifique se o número 10 é maior que 5 e imprima o resultado da\n",
        "comparação."
      ],
      "metadata": {
        "id": "U4Yw-j0nxNMC"
      }
    },
    {
      "cell_type": "code",
      "source": [
        "numero = 10 # variável declarada do tipo int\n",
        "numero1 = 5# variável declarada do tipo int\n",
        "print(numero > numero1) # imprimindo e verificando se a varável a é maior que a b\n",
        "print(10 > 5 )"
      ],
      "metadata": {
        "colab": {
          "base_uri": "https://localhost:8080/"
        },
        "id": "hkTayJ9cxO4_",
        "outputId": "4f2f26cb-7d84-457f-a07d-be3a75a8a56e"
      },
      "execution_count": null,
      "outputs": [
        {
          "output_type": "stream",
          "name": "stdout",
          "text": [
            "True\n",
            "True\n"
          ]
        }
      ]
    },
    {
      "cell_type": "markdown",
      "source": [
        "##Atividade 04"
      ],
      "metadata": {
        "id": "DuhE2UoCynpN"
      }
    },
    {
      "cell_type": "markdown",
      "source": [
        "Utilize o operador in para verificar se a letra 'a' está presente na string\n",
        "banana."
      ],
      "metadata": {
        "id": "b7fxEdjWysx1"
      }
    },
    {
      "cell_type": "code",
      "source": [
        "nome = \"banana\" # variável declarada do tipo String\n",
        "print(\"a\" in nome) #imprimir verificação se \"a\" está na variável nome\n",
        "print(\"f\" in nome) #imprimir verificação se \"f\" está na variável nome"
      ],
      "metadata": {
        "colab": {
          "base_uri": "https://localhost:8080/"
        },
        "id": "brwbj8nUzFpY",
        "outputId": "2e7a6dae-4a34-413e-ed73-db281cbbc096"
      },
      "execution_count": null,
      "outputs": [
        {
          "output_type": "stream",
          "name": "stdout",
          "text": [
            "True\n",
            "False\n"
          ]
        }
      ]
    },
    {
      "cell_type": "markdown",
      "source": [
        "# Atividade 05"
      ],
      "metadata": {
        "id": "rC-J1zQXzvX1"
      }
    },
    {
      "cell_type": "markdown",
      "source": [
        "Escreva um programa que solicita ao usuário dois números e imprima a\n",
        "soma, a diferença, o produto e o quociente da divisão entre esses\n",
        "números."
      ],
      "metadata": {
        "id": "FGhfqFIxz7B4"
      }
    },
    {
      "cell_type": "code",
      "source": [
        "peso = float(input('Informe seu peso em kg:')) # variável declarada do tipo float para o usuário inserir os dados\n",
        "idade  = int(input('Informe sua idade: ')) # variável declarada do tipo int para o usuário inserir os dados\n",
        "soma = peso + idade # aqui o programa realiza a soma das variáveis peso e idade\n",
        "diferenca = peso - idade # aqui o programa realiza a subtração das variáveis peso e idade\n",
        "produto = peso * idade # aqui o programa realiza a multiplicação das variáveis peso e idade\n",
        "quociente = peso / idade# aqui o programa realiza a divisão das variáveis peso e idade\n",
        "\n",
        "print(\"Soma:\", soma) # imprimi o resultado da soma\n",
        "print(\"Diferença:\", diferenca) # imprimi o resultado da diferença\n",
        "print(\"Produto:\", produto) # imprimi o resultado do produto\n",
        "print(\"Quociente:\", quociente) # imprimi o resultado do quociente\n",
        "print(f\"O quociente com duas casas decimais fica assim: {quociente:.2f}\")\n",
        "# imprimi o resultado do quociente com duas casa decimais\n",
        "\n"
      ],
      "metadata": {
        "colab": {
          "base_uri": "https://localhost:8080/"
        },
        "id": "Ndvbs_Y_z85m",
        "outputId": "64e7b1ee-8e2f-4f8b-c273-3a99530a415a"
      },
      "execution_count": null,
      "outputs": [
        {
          "output_type": "stream",
          "name": "stdout",
          "text": [
            "Informe seu peso em kg:70\n",
            "Informe sua idade: 43\n",
            "Soma: 113.0\n",
            "Diferença: 27.0\n",
            "Produto: 3010.0\n",
            "Quociente: 1.627906976744186\n",
            "O quociente com duas casas decimais fica assim: 1.63\n"
          ]
        }
      ]
    }
  ]
}