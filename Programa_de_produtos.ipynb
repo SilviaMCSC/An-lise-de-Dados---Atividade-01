{
  "nbformat": 4,
  "nbformat_minor": 0,
  "metadata": {
    "colab": {
      "provenance": [],
      "authorship_tag": "ABX9TyOdrHFo8ScnakSzRjpHoDGJ",
      "include_colab_link": true
    },
    "kernelspec": {
      "name": "python3",
      "display_name": "Python 3"
    },
    "language_info": {
      "name": "python"
    }
  },
  "cells": [
    {
      "cell_type": "markdown",
      "metadata": {
        "id": "view-in-github",
        "colab_type": "text"
      },
      "source": [
        "<a href=\"https://colab.research.google.com/github/SilviaMCSC/An-lise-de-Dados---Atividade-01/blob/main/Programa_de_produtos.ipynb\" target=\"_parent\"><img src=\"https://colab.research.google.com/assets/colab-badge.svg\" alt=\"Open In Colab\"/></a>"
      ]
    },
    {
      "cell_type": "markdown",
      "source": [
        "Elabore um programa que receba do usuário um número inteiro e positivo de no máximo 5,\n",
        "\n",
        "e automaticamente, exiba o nome do produto correspondente, seu preço, sua quantidade vendida,\n",
        "\n",
        "o valor faturado em R$, e quantas unidades ainda restam em estoque desse produto.\n"
      ],
      "metadata": {
        "id": "_NaOqC2UPSQ8"
      }
    },
    {
      "cell_type": "code",
      "execution_count": null,
      "metadata": {
        "colab": {
          "base_uri": "https://localhost:8080/"
        },
        "id": "35_hjg2mR2Ju",
        "outputId": "31ebdc8a-2883-4620-c210-f6a6597d02bf"
      },
      "outputs": [
        {
          "output_type": "stream",
          "name": "stdout",
          "text": [
            "Digite um índice entre 0 e 5: 5\n",
            "\n",
            "O produto escolhido foi: Óleo\n",
            "O preço é R$: 6.99\n",
            "A quantidade em estoque é: 150\n",
            "O faturamento é de R$: 349.50\n",
            "Em estoque: 100.00\n",
            "\n",
            "#\n",
            "Hello World!!!\n"
          ]
        }
      ],
      "source": [
        "#produtos = ['Arroz, Feijão, Macarrão, Açúcar, Manteiga, Óleo']\n",
        "#precos = [29.00, 7.99, 4.99, 15.00, 11.00, 6.99 ]\n",
        "#estoques = [800, 500, 900, 400, 100, 150]\n",
        "#vendas = [50, 200, 50, 90, 65, 50]\n",
        "\n",
        "#indice = int (input(f'Digite um índice ente 0 e 5: '))\n",
        "#print(f'''\n",
        "  #            O produto escolhido foi: {produtos[indice]}\n",
        "    #          O preço é R$: {precos[indice]}\n",
        "     #         A quantidade em estoque é:  {estoque[indice]}\n",
        "          #    O faturamento é de R$: {vendas[indice]*precos[indice]:,.2} #aqui calculou o faturamento que são as vendas vezes o preço\n",
        "          #    Em estoque:  {estoque[indice]- vendas[indice]unidades}\n",
        "         #     ''')\n",
        "\n",
        "produtos = ['Arroz', 'Feijão', 'Macarrão', 'Açúcar', 'Manteiga', 'Óleo']\n",
        "# Lista dos produtos disponíveis, cada produto é uma string separada dentro da lista.\n",
        "\n",
        "precos = [29.00, 7.99, 4.99, 15.00, 11.00, 6.99]\n",
        "# Lista dos preços correspondentes aos produtos na mesma ordem da lista de produtos.\n",
        "\n",
        "estoques = [800, 500, 900, 400, 100, 150]\n",
        "# Lista da quantidade em estoque de cada produto.\n",
        "\n",
        "vendas = [50, 200, 50, 90, 65, 50]\n",
        "# Lista da quantidade vendida de cada produto.\n",
        "\n",
        "indice = int(input('Digite um índice entre 0 e 5: '))\n",
        "# Solicita ao usuário que insira um índice para selecionar um produto.\n",
        "\n",
        "print(f'''\n",
        "O produto escolhido foi: {produtos[indice]}\n",
        "O preço é R$: {precos[indice]:,.2f}\n",
        "A quantidade em estoque é: {estoques[indice]}\n",
        "O faturamento é de R$: {(vendas[indice]*precos[indice]):,.2f}\n",
        "Em estoque: {(estoques[indice] - vendas[indice]):.2f}\n",
        "\n",
        "#''')\n",
        "# Imprime todas as informações sobre o produto escolhido utilizando f-strings para formatação.\n",
        "# Cada informação é acessada usando o índice fornecido pelo usuário para acessar as listas correspondentes.\n",
        "# O faturamento é calculado multiplicando a quantidade vendida pelo preço do produto.\n",
        "# A quantidade em estoque restante é calculada subtraindo a quantidade vendida da quantidade em estoque.\n",
        "\n",
        "print('Hello World!!!')\n"
      ]
    }
  ]
}