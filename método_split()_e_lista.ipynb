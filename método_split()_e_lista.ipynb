{
  "nbformat": 4,
  "nbformat_minor": 0,
  "metadata": {
    "colab": {
      "provenance": [],
      "authorship_tag": "ABX9TyMCup20K3SAvgnKeQmQKDjA",
      "include_colab_link": true
    },
    "kernelspec": {
      "name": "python3",
      "display_name": "Python 3"
    },
    "language_info": {
      "name": "python"
    }
  },
  "cells": [
    {
      "cell_type": "markdown",
      "metadata": {
        "id": "view-in-github",
        "colab_type": "text"
      },
      "source": [
        "<a href=\"https://colab.research.google.com/github/SilviaMCSC/An-lise-de-Dados---Atividade-01/blob/main/m%C3%A9todo_split()_e_lista.ipynb\" target=\"_parent\"><img src=\"https://colab.research.google.com/assets/colab-badge.svg\" alt=\"Open In Colab\"/></a>"
      ]
    },
    {
      "cell_type": "code",
      "execution_count": null,
      "metadata": {
        "colab": {
          "base_uri": "https://localhost:8080/"
        },
        "id": "oYUbxwt94XJM",
        "outputId": "5a0962c7-a735-45ba-f7cd-a7623bdcdb53"
      },
      "outputs": [
        {
          "output_type": "stream",
          "name": "stdout",
          "text": [
            "Digite os nomes: Lara Silvia Laís Eric\n",
            "Nomes armazenados na lista: ['Lara', 'Silvia', 'Laís', 'Eric']\n"
          ]
        }
      ],
      "source": [
        "nomes = input(\"Digite os nomes: \") # variável nomes recebendo input para que o usário digite nomes\n",
        "\n",
        "\n",
        "listaDeNomes = nomes.split() # uma nova variável está recebendo o que for digfitado pelo usuário e guardando em uma nova lista\n",
        "                             # O  método split() (casting) que está retornando uma String\n",
        "\n",
        "\n",
        "print(\"Nomes armazenados na lista:\", listaDeNomes) # impressão dos nosmes armazenados na lsita.\n"
      ]
    },
    {
      "cell_type": "markdown",
      "source": [
        "\n",
        "Elabore um programa que receba do usuário um número inteiro e positivo de no máximo 5\n",
        "\n",
        "e automaticamente, exiba o nome do produto correspondente, seu preço, sua quantidade vendida,\n",
        "\n",
        "o valor faturado em R$, e quantas unidades ainda restam em estoque desse produto.\n"
      ],
      "metadata": {
        "id": "727-LDp0Byhp"
      }
    },
    {
      "cell_type": "code",
      "source": [
        "produtos = ['monitor', 'celular', 'notebook', 'desktop', 'impressora', 'teclado'] # lista de Strings\n",
        "precos = [600, 2000, 5000, 3000, 1500, 200] # lista numérica\n",
        "vendas = [300, 500, 100, 700, 500, 1000] # lista numérica\n",
        "estoques = [5000] * 6 #  Este comando cria uma lista que tem 6 elementos com o mesmo valor (5000)\n",
        "\n",
        "\n",
        "indice = int (input(f'Digite o número do produto que deseja consulta que seja de 0 a 5: ')) # imprime o nome do produto de acordo com a escolha do usuário\n",
        "print (f'O produto escolhido foi: {produtos[indice]}') # imprime o nome do produto de acordo com a escolha do usuário\n",
        "print (f'Seu preço é R$: {precos[indice]:,.2f}') #imprime o preço do produto de acordo com a escolha do usuário\n",
        "print (f'Sua quantidade é: {vendas[indice]}') #imprime o nº de vendasdo produto de acordo com a escolha do usuário\n",
        "print (f'Sua quantidade vendida foi: {estoques[indice]} unidades') #imprime a quantidade do estoque de acordo com a escolha do usuário\n",
        "print (f'o seu faturamento foi de R$: {(vendas[indice]*precos[indice]):,.2f} ') # cáculo do objetoe preços para saber o faturamento\n",
        "print (f'E ainda restam: {estoques[indice]-vendas[indice]} unidades em estoque') # calculo do que resta em estoque  que feito doe stoque menos as vendas\n",
        "\n"
      ],
      "metadata": {
        "colab": {
          "base_uri": "https://localhost:8080/"
        },
        "id": "WLEhuPkXRdff",
        "outputId": "2b5fa356-4087-43c0-8d05-437bb598b2b4"
      },
      "execution_count": null,
      "outputs": [
        {
          "output_type": "stream",
          "name": "stdout",
          "text": [
            "Digite o número do produto que deseja consulta que seja de 0 a 5: 2\n",
            "O produto escolhido foi: notebook\n",
            "Seu precço é R$: 5,000.00\n",
            "Sua quantidade é: 100\n",
            "Sua quantidade vendida foi: 5000 unidades\n",
            "o seu faturamento foi de R$ 500,000.00 \n",
            "E ainda restam: 4900 unidades em estoque\n"
          ]
        }
      ]
    }
  ]
}