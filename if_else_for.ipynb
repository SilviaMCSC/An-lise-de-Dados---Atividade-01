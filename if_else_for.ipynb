{
  "nbformat": 4,
  "nbformat_minor": 0,
  "metadata": {
    "colab": {
      "provenance": [],
      "authorship_tag": "ABX9TyPdlj1njCaJsNF8t3LAE0B0",
      "include_colab_link": true
    },
    "kernelspec": {
      "name": "python3",
      "display_name": "Python 3"
    },
    "language_info": {
      "name": "python"
    }
  },
  "cells": [
    {
      "cell_type": "markdown",
      "metadata": {
        "id": "view-in-github",
        "colab_type": "text"
      },
      "source": [
        "<a href=\"https://colab.research.google.com/github/SilviaMCSC/An-lise-de-Dados---Atividade-01/blob/main/if_else_for.ipynb\" target=\"_parent\"><img src=\"https://colab.research.google.com/assets/colab-badge.svg\" alt=\"Open In Colab\"/></a>"
      ]
    },
    {
      "cell_type": "code",
      "execution_count": 1,
      "metadata": {
        "colab": {
          "base_uri": "https://localhost:8080/"
        },
        "id": "Zy0tUndscbSY",
        "outputId": "d494627a-e256-477e-fe00-ba2a9c9b3fe8"
      },
      "outputs": [
        {
          "output_type": "stream",
          "name": "stdout",
          "text": [
            "Informe um número qualquer: 5\n",
            "Informe outro número qualquer: 8\n",
            "O maior número informado é 8.0\n"
          ]
        }
      ],
      "source": [
        "a = float(input('Informe um número qualquer: '))\n",
        "b = float(input('Informe outro número qualquer: '))\n",
        "if a == b:\n",
        "  print('Você informou dois números iguais!')\n",
        "else:\n",
        "  if a > b:\n",
        "    print(f'O maior número informado é {a}')\n",
        "  else:\n",
        "    print(f'O maior número informado é {b}')"
      ]
    },
    {
      "cell_type": "markdown",
      "source": [
        "Crie um programa que receba do usuário n notas ( 1 ou mais notas),\n",
        " calcule a media aritmética delas e caso a média seja maior ou igual a 6 exiba a mensagem \" Parabéns, você foi aprovado, caso a média seja menor que 6 mas maior ou igual a 4 exiba a mensagem \" você está em recuperação, caso a média seja menor  que 4 exiba a mensagem \" Reprovado, infelizmete! E caso a média seja igual a 10, exiba a mensagem \" Parabéns, você foi aprovado com  nota máxima!\"\n",
        "obs: As n notas digitadas pelo usuário deverão ser informadas em um único input, separadas por espaços."
      ],
      "metadata": {
        "id": "JGewYPTK5L2d"
      }
    },
    {
      "cell_type": "code",
      "source": [
        "notas = input(\"Digite as notas separadas por espaços: \") # Recebe as notas do usuário em um único input, separadas por espaços\n",
        "\n",
        "\n",
        "notas = notas.split() # Divide a string de entrada em uma lista de strings, cada uma representando uma nota\n",
        "#input  enxerga como string. Então tem que transformar em  float.\n",
        "#Não dá para tipar uma string que não tem só numeros. Aqui tem números e espaços\n",
        "\n",
        "\n",
        "notas = [float(nota) for nota in notas] # Converte as strings de notas em números (float)\n",
        "\n",
        "\n",
        "soma = 0 # Inicializa a variável soma para calcular a soma das notas\n",
        "\n",
        "\n",
        "for nota in notas: # Percorre todas as notas na lista e adiciona cada uma à soma\n",
        "    soma += nota\n",
        "\n",
        "\n",
        "media = soma / len(notas) # Calcula a média aritmética das notas\n",
        "\n",
        "# Exibe a mensagem de acordo com a média\n",
        "if media == 10:\n",
        "    print(\"Parabéns, você foi aprovado com nota máxima!\")\n",
        "elif media >= 6:\n",
        "    print(\"Parabéns, você foi aprovado!\")\n",
        "elif media >= 4:\n",
        "    print(\"Você está em recuperação.\")\n",
        "else:\n",
        "    print(\"Reprovado, infelizmente!\")\n"
      ],
      "metadata": {
        "id": "xUI41bHW73z2"
      },
      "execution_count": null,
      "outputs": []
    },
    {
      "cell_type": "markdown",
      "source": [
        "Crie uma entrada de dados numéricos notas de  (0 a 10)  em um único input\n",
        "onde os valores são informados e separados por espaços\n",
        "e armazene isso tudo em uma variável chamada nota.\n",
        "Seguir verifique qual tipo de dados está armazenado nessa variável.\n",
        "\n",
        "\n",
        "\n",
        "Separe os valores armazenados em notas utilizando os espaços como separadores e armazene tudo em um objeto chamado notas1.\n",
        "\n",
        "\n",
        "Agora  converta cada valor do objeto notas 1 em um numero  do tipo float.\n",
        "\n",
        "E na sequencia exiba o objeto nostas1 e a soma de todos os valores deste objeto\n",
        "\n",
        "Elabora um código que a partir dos valores da lista notas calcule a média aritmética e exiba o valor desse média."
      ],
      "metadata": {
        "id": "CpJHkiJ-dkHv"
      }
    },
    {
      "cell_type": "code",
      "source": [
        "nota = input('Informe as notas de 0 a 10 separadas por espaços: ')\n",
        "print(type(nota))\n",
        "\n",
        "notas = nota.split()\n",
        "\n",
        "\n",
        "for i in range(len(notas)):\n",
        "  notas[i] = float(notas[i])\n",
        "print(sum(notas))\n",
        "\n",
        "# Alternativa usando o enumerate\n",
        "\n",
        "for i, v in enumerate(notas):\n",
        "  notas[i] = float(v)\n",
        "print(sum(notas))\n",
        "\n",
        "\n",
        "media= sum(notas) / len(notas)\n",
        "print (media)\n",
        "\n",
        "# Exibe a mensagem de acordo com a média\n",
        "if media == 10:\n",
        "    print(\"Parabéns, você foi aprovado com nota máxima!\")\n",
        "elif media >= 6:\n",
        "    print(\"Parabéns, você foi aprovado!\")\n",
        "elif media >= 4:\n",
        "    print(\"Você está em recuperação.\")\n",
        "else:\n",
        "    print(\"Reprovado, infelizmente!\")\n",
        "\n"
      ],
      "metadata": {
        "id": "_b5CZpjReGil"
      },
      "execution_count": null,
      "outputs": []
    },
    {
      "cell_type": "markdown",
      "source": [
        "Imagine que você dewseja criar um programa que inicialmente  solicite ao usuário uma quantidade de notas que ele deseje informar, e na sequencia o programa execute um loop whilw solicitando quantas notas  o usuário informe  uma nota até que a quantidade informada pelo usuário seja igual ao número que o usuário informou no primeiro input, armazene em uma lista."
      ],
      "metadata": {
        "id": "eJNA3HC0vmdV"
      }
    },
    {
      "cell_type": "code",
      "source": [
        "n = int (input ( 'Informe a quantidade de notas que deseja informar: '))\n",
        "c= 0 # variável contadora. Quantas notas tem na lista\n",
        "notas = [] #criar lista vazia para adicionar dentro as notas append\n",
        "\n",
        "while c < n:  # Enquando o c for menor que o n .\n",
        "              #se o usuário colocar 5 o contador irá rodar até 5.\n",
        "\n",
        "  notas.append(float(input(f' Informe a {c + 1}ª nota de  0 a 10: ')))\n",
        "  c += 1\n",
        "  print(notas)\n"
      ],
      "metadata": {
        "colab": {
          "base_uri": "https://localhost:8080/"
        },
        "id": "HNjOmNEbxiO5",
        "outputId": "a205f8cc-6c74-47e0-ac15-ace5a3f0050e"
      },
      "execution_count": null,
      "outputs": [
        {
          "output_type": "stream",
          "name": "stdout",
          "text": [
            "Informe a quantidade de notas que deseja informar: 3\n",
            " Informe a 1ª nota de  0 a 10: 5\n",
            "[5.0]\n",
            " Informe a 2ª nota de  0 a 10: 8\n",
            "[5.0, 8.0]\n",
            " Informe a 3ª nota de  0 a 10: 9\n",
            "[5.0, 8.0, 9.0]\n"
          ]
        }
      ]
    },
    {
      "cell_type": "code",
      "source": [
        "dadosx = input('Informe os valores de x separados por espaço: ')\n",
        "dadosy = input('Informe os valores de y separados por espaço: ')\n",
        "x = dadosx.split()\n",
        "y = dadosy.split()\n",
        "xq = []\n",
        "yq = []\n",
        "xy = []\n",
        "\n",
        "for i in range(len(x)):\n",
        "  x[i] = float(x[i])\n",
        "  y[i] = float(y[i])\n",
        "xq.append(x[i]**2)\n",
        "yq.append(x[i]**2)\n",
        "xy.append(x[i]**2)\n",
        "\n",
        "\n"
      ],
      "metadata": {
        "id": "GTsX9b6MKb9d"
      },
      "execution_count": null,
      "outputs": []
    }
  ]
}