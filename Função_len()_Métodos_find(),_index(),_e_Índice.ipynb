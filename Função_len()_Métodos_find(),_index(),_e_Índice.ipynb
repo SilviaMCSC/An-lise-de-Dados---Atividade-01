{
  "nbformat": 4,
  "nbformat_minor": 0,
  "metadata": {
    "colab": {
      "provenance": [],
      "authorship_tag": "ABX9TyPXbfD4cbEDm776u5QR5qWI",
      "include_colab_link": true
    },
    "kernelspec": {
      "name": "python3",
      "display_name": "Python 3"
    },
    "language_info": {
      "name": "python"
    }
  },
  "cells": [
    {
      "cell_type": "markdown",
      "metadata": {
        "id": "view-in-github",
        "colab_type": "text"
      },
      "source": [
        "<a href=\"https://colab.research.google.com/github/SilviaMCSC/An-lise-de-Dados---Atividade-01/blob/main/Fun%C3%A7%C3%A3o_len()_M%C3%A9todos_find()%2C_index()%2C_e_%C3%8Dndice.ipynb\" target=\"_parent\"><img src=\"https://colab.research.google.com/assets/colab-badge.svg\" alt=\"Open In Colab\"/></a>"
      ]
    },
    {
      "cell_type": "code",
      "execution_count": 1,
      "metadata": {
        "colab": {
          "base_uri": "https://localhost:8080/"
        },
        "id": "ZX_0Q_LU4nqy",
        "outputId": "a5b7b83f-cf35-44d2-be11-cc7121735eee"
      },
      "outputs": [
        {
          "output_type": "stream",
          "name": "stdout",
          "text": [
            "X =  19\n",
            "X =  -1\n",
            "X =  8\n"
          ]
        }
      ],
      "source": [
        "a = 10 # variável sendo atribuída com valor 10\n",
        "b = 9 # variável sendo atribuída com valor 9\n",
        "soma = a + b # soma de a + b\n",
        "x = soma # nova variávels endo criada par areceber o valor de soma\n",
        "\n",
        "print (f'X =  {soma}') # impressão com f-string trazendo o objeto (soma) entre as chaves.\n",
        "\n",
        "\n",
        "\n",
        "a = -10# variável sendo atribuída com valor -10\n",
        "b = 9 # variável sendo atribuída com valor 9\n",
        "c  = 4 # variável sendo atribuída com valor 9\n",
        "soma = a + b   # soma de a + b + c\n",
        "x = soma # nova variávels endo criada par areceber o valor de soma\n",
        "\n",
        "print (f'X =  {soma}') # impressão com f-string trazendo o objeto (soma) entre as chaves.\n",
        "\n",
        " # idem atividade de cima\n",
        "a = 15\n",
        "b = -7\n",
        "soma = a + b\n",
        "x = soma\n",
        "\n",
        "print (f'X =  {soma}')"
      ]
    },
    {
      "cell_type": "markdown",
      "source": [
        "Considere a expressão: texto = 'No way!'. assim a expressão: len(texto) trará como resposta:"
      ],
      "metadata": {
        "id": "Q_GzefiG7DP2"
      }
    },
    {
      "cell_type": "code",
      "source": [
        "texto = 'No way!' # vairável texto sendo atribuída com uma String\n",
        "len(texto) # função len sendo chamada para contar os caracteres há na variável texto\n",
        "\n",
        "\n"
      ],
      "metadata": {
        "colab": {
          "base_uri": "https://localhost:8080/"
        },
        "id": "Mr_tzqb57EDk",
        "outputId": "939e4abf-f41e-4e19-c9b2-7382bb9b2ae9"
      },
      "execution_count": null,
      "outputs": [
        {
          "output_type": "execute_result",
          "data": {
            "text/plain": [
              "7"
            ]
          },
          "metadata": {},
          "execution_count": 12
        }
      ]
    },
    {
      "cell_type": "markdown",
      "source": [
        "Considere a expressão: texto = 'No way!'. assim a expressão: texto.replace('No', 'Yes') trará como resposta:\n",
        "*\n",
        "'Yes way!'"
      ],
      "metadata": {
        "id": "GnLs1cdO7n7U"
      }
    },
    {
      "cell_type": "code",
      "source": [
        "texto = 'No way!' # vairável texto sendo atribuída com uma String\n",
        "texto.replace('No', 'Yes') # método replace sendo chamado.\n",
        "                           # Ele substitui  e retorna uma nova String\n",
        "                           # note que a impressão está substitiuída por Yes Way\n"
      ],
      "metadata": {
        "colab": {
          "base_uri": "https://localhost:8080/",
          "height": 35
        },
        "id": "8mYhm31s7o2g",
        "outputId": "b5fa0f9c-fed5-48e2-f1c9-aaf987550fd7"
      },
      "execution_count": null,
      "outputs": [
        {
          "output_type": "execute_result",
          "data": {
            "text/plain": [
              "'Yes way!'"
            ],
            "application/vnd.google.colaboratory.intrinsic+json": {
              "type": "string"
            }
          },
          "metadata": {},
          "execution_count": 13
        }
      ]
    },
    {
      "cell_type": "markdown",
      "source": [
        "Considere a expressão: texto = 'No way!'. assim a expressão: texto[3:6] trará como resposta:"
      ],
      "metadata": {
        "id": "QZSRpJY09NvQ"
      }
    },
    {
      "cell_type": "code",
      "source": [
        "texto = 'No way!'# variável sendo atribuída com uma String\n",
        "texto[3:6] # índice 3 até o índice 6( o final é excludente, ou seja, -1 indíce)\n",
        "           # por isso que o ponto de exclamção não sai na impressão."
      ],
      "metadata": {
        "colab": {
          "base_uri": "https://localhost:8080/",
          "height": 35
        },
        "id": "FBa5Nj1n9O86",
        "outputId": "fff94460-71ae-43c7-9dee-e4a754cd271f"
      },
      "execution_count": null,
      "outputs": [
        {
          "output_type": "execute_result",
          "data": {
            "text/plain": [
              "'way'"
            ],
            "application/vnd.google.colaboratory.intrinsic+json": {
              "type": "string"
            }
          },
          "metadata": {},
          "execution_count": 14
        }
      ]
    },
    {
      "cell_type": "markdown",
      "source": [
        "Considere a expressão: texto = 'No way!'. assim a expressão: texto[-1] trará como resposta:"
      ],
      "metadata": {
        "id": "VS6V5d3S9_Ci"
      }
    },
    {
      "cell_type": "code",
      "source": [
        "texto = 'No way!' # variável sendo atribuída com uma String\n",
        "texto [-1] # índice -1 signifca que irá imprimir o último caracter, no caso a esclamação!"
      ],
      "metadata": {
        "colab": {
          "base_uri": "https://localhost:8080/",
          "height": 35
        },
        "id": "ZVwujiE_9_5k",
        "outputId": "aad78c84-d07e-4665-f9f4-7e625edf008f"
      },
      "execution_count": null,
      "outputs": [
        {
          "output_type": "execute_result",
          "data": {
            "text/plain": [
              "'!'"
            ],
            "application/vnd.google.colaboratory.intrinsic+json": {
              "type": "string"
            }
          },
          "metadata": {},
          "execution_count": 15
        }
      ]
    },
    {
      "cell_type": "markdown",
      "source": [
        "Considere a expressão: texto = 'No way!'. assim a expressão: texto[1] trará como resposta:"
      ],
      "metadata": {
        "id": "goxszKGT-bzv"
      }
    },
    {
      "cell_type": "code",
      "source": [
        "texto = 'No way!' # variável sendo atribuída com uma String\n",
        "texto[1] # índice 1 significa que irá imprimir a letra O, pois o índice começa no 0."
      ],
      "metadata": {
        "colab": {
          "base_uri": "https://localhost:8080/",
          "height": 35
        },
        "id": "MtRHetKr-cwU",
        "outputId": "2ba46b02-074a-4317-edc3-26c890426613"
      },
      "execution_count": null,
      "outputs": [
        {
          "output_type": "execute_result",
          "data": {
            "text/plain": [
              "'o'"
            ],
            "application/vnd.google.colaboratory.intrinsic+json": {
              "type": "string"
            }
          },
          "metadata": {},
          "execution_count": 16
        }
      ]
    },
    {
      "cell_type": "markdown",
      "source": [
        "Considere a expressão: texto = 'No way!'. assim a expressão: texto.find('way!') trará como resposta:"
      ],
      "metadata": {
        "id": "xovxUZnh-tLw"
      }
    },
    {
      "cell_type": "code",
      "source": [
        "texto = 'No way!' # variável sendo atribuída com uma String\n",
        "texto.find('way!') # nétodo find sendo chamado. Ele mostra todos os caracteres,\n",
        "# que estão sendo passados como argumento, ou seja os 4 caracteres, pois o índece começa no 0"
      ],
      "metadata": {
        "colab": {
          "base_uri": "https://localhost:8080/"
        },
        "id": "notcZbLi-uQ2",
        "outputId": "9d6e20b7-81a6-4ae3-977e-e876feb8bdf1"
      },
      "execution_count": null,
      "outputs": [
        {
          "output_type": "execute_result",
          "data": {
            "text/plain": [
              "3"
            ]
          },
          "metadata": {},
          "execution_count": 17
        }
      ]
    },
    {
      "cell_type": "code",
      "source": [
        "produtos = ['monitor', 'celular', 'notebook', 'desktop', 'impressora', 'teclado'] # variável sendo atribuída com uma sequencia(lista) de Strings\n",
        "precos = [600, 2000, 5000, 3000, 1500, 200] # variável sendo atribuída comuma lista de números.\n",
        "vendas = [300, 500, 100, 700, 500, 1000] # variável sendo atribuída comuma lista de números.\n",
        "estoques = [5000] * 6 #  Este comando cria uma lista que tem 6 elementos com o mesmo valor (5000)\n",
        "'''\n",
        "Imagine que você deseja permitir que o usuário consulte a existência de um\n",
        "produto pelo nome e caso esse produto exista, o programa retorna o nome do\n",
        "produto, seu preço unitário de venda, sua quantidade vendida, seu faturamento e\n",
        "quantas unidades ainda restam em estoique desse produto.\n",
        "'''\n",
        "i = produtos.index (lower (input('Informe nome do produto que deseja consultar: ')))\n",
        "# a função lower está sendo chamada para que quando o usuário digitar o texto saia com letras minúsculas\n",
        "# método index está sendo chamado e retorna  o índice do primeiro elemento da lista que corresponde ao valor passado como argumento. .\n",
        "\n",
        "# f-string fazendo a formatação com 3 aspas - é usada para imprimir várias informações sobre o produto digitado pelo usuário\n",
        "print(f'''\n",
        "O produto escolhido foi: {produtos[i]}, seu preço é de: R$ {precos[i]:,.2f},\n",
        "sua quantidade vendida fou de {vendas[i]} unidades,\n",
        "o seu faturamento foi de R$ {(vendas[i]*precos[i]):,.2f}, o seu estoque\n",
        "é de {(estoques[i] - vendas[i])} unidades''')"
      ],
      "metadata": {
        "colab": {
          "base_uri": "https://localhost:8080/"
        },
        "id": "GplKxk6ZLPDm",
        "outputId": "ba52d1b8-c377-4a2a-f5cf-091e8b43e542"
      },
      "execution_count": null,
      "outputs": [
        {
          "output_type": "stream",
          "name": "stdout",
          "text": [
            "Informe nome do produto que deseja consultar: teclado\n",
            "\n",
            "O produto escolhido foi: teclado, seu preço é de: R$ 200.00,\n",
            "sua quantidade vendida fou de 1000 unidades,\n",
            "o seu faturamento foi de R$ 200,000.00, o seu estoque\n",
            "é de 4000 unidades\n"
          ]
        }
      ]
    }
  ]
}