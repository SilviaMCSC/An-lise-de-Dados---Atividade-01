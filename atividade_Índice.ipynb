{
  "nbformat": 4,
  "nbformat_minor": 0,
  "metadata": {
    "colab": {
      "provenance": [],
      "toc_visible": true,
      "authorship_tag": "ABX9TyMsczjzN/f1GahdSnU7iAxd",
      "include_colab_link": true
    },
    "kernelspec": {
      "name": "python3",
      "display_name": "Python 3"
    },
    "language_info": {
      "name": "python"
    }
  },
  "cells": [
    {
      "cell_type": "markdown",
      "metadata": {
        "id": "view-in-github",
        "colab_type": "text"
      },
      "source": [
        "<a href=\"https://colab.research.google.com/github/SilviaMCSC/An-lise-de-Dados---Atividade-01/blob/main/atividade_%C3%8Dndice.ipynb\" target=\"_parent\"><img src=\"https://colab.research.google.com/assets/colab-badge.svg\" alt=\"Open In Colab\"/></a>"
      ]
    },
    {
      "cell_type": "markdown",
      "source": [
        "#Atividade 01"
      ],
      "metadata": {
        "id": "2HQA6e7z_b0R"
      }
    },
    {
      "cell_type": "markdown",
      "source": [
        "Crie uma lista com 10 números e imprima os elementos do índice 3 ao 7."
      ],
      "metadata": {
        "id": "vR29bBqd_hr8"
      }
    },
    {
      "cell_type": "code",
      "source": [
        "lista = [1, 2, 3, 4, 5, 6, 7, 8, 9, 10]\n",
        "print(lista)\n",
        "print(lista [3:8])"
      ],
      "metadata": {
        "colab": {
          "base_uri": "https://localhost:8080/"
        },
        "id": "Nrd50oWa_kSO",
        "outputId": "008f3e42-4e40-4123-ccc7-4386d520255c"
      },
      "execution_count": null,
      "outputs": [
        {
          "output_type": "stream",
          "name": "stdout",
          "text": [
            "[1, 2, 3, 4, 5, 6, 7, 8, 9, 10]\n",
            "[4, 5, 6, 7, 8]\n"
          ]
        }
      ]
    },
    {
      "cell_type": "markdown",
      "source": [
        "# Atividade 02"
      ],
      "metadata": {
        "id": "4Z5Bu1oFA1yC"
      }
    },
    {
      "cell_type": "markdown",
      "source": [
        "Crie uma lista com 10 palavras e imprima a lista pulando de 2 em 2\n",
        "elementos."
      ],
      "metadata": {
        "id": "-m9TtW69A7b0"
      }
    },
    {
      "cell_type": "code",
      "source": [
        "lista = ['Análise', 'Dados', 'Estatística', 'Exploração',\n",
        "         'Gráficos', 'Interpretação','Modelagem', 'Previsão',\n",
        "         'Processamento', 'Visualização']\n",
        "         # variável sendo atribuída com uma lista de Strings\n",
        "print(lista [2::2] ) # impressão da variável lista começando na posição 2 e dando saltos de 2 em 2\n",
        "\n",
        "\n"
      ],
      "metadata": {
        "colab": {
          "base_uri": "https://localhost:8080/"
        },
        "id": "Bt8rrpfoA9Nc",
        "outputId": "91023d8c-2bd4-4ddd-ceea-b24eef435a42"
      },
      "execution_count": null,
      "outputs": [
        {
          "output_type": "stream",
          "name": "stdout",
          "text": [
            "['Estatística', 'Gráficos', 'Modelagem', 'Processamento']\n"
          ]
        }
      ]
    },
    {
      "cell_type": "markdown",
      "source": [
        "# Atividade 03"
      ],
      "metadata": {
        "id": "hfIoXIqCDC6o"
      }
    },
    {
      "cell_type": "markdown",
      "source": [
        "Crie uma lista com 8 nomes de frutas e imprima uma nova lista com as\n",
        "frutas a partir da 5ª fruta da lista original."
      ],
      "metadata": {
        "id": "mMz1aG_KDFiQ"
      }
    },
    {
      "cell_type": "code",
      "source": [
        "frutas = ['Abacaxi', 'Amora', 'Laranja', 'Mexirica', 'Pitaya', 'Tâmara', 'Mirtilo','Graviola']\n",
        "# variável lista sendo atribuida com uma lista de Strings\n",
        "listaFrutas = frutas # para armazenar na memória uma nova variável foi criada\n",
        "                     # para receber a lista da variável frutas\n",
        "print(listaFrutas[5:])\n",
        "# impressão da nova variável listaFrutas começando no índice 5 indo até o final\n",
        "# quando o índice final está vazio significa que deve ir até o final da lista.\n"
      ],
      "metadata": {
        "colab": {
          "base_uri": "https://localhost:8080/"
        },
        "id": "wYdx_G-EDGtB",
        "outputId": "2173df2d-6bda-48c3-afce-5958db221999"
      },
      "execution_count": null,
      "outputs": [
        {
          "output_type": "stream",
          "name": "stdout",
          "text": [
            "['Tâmara', 'Mirtilo', 'Graviola']\n"
          ]
        }
      ]
    }
  ]
}