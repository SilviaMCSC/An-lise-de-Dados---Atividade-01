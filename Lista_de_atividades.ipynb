{
  "nbformat": 4,
  "nbformat_minor": 0,
  "metadata": {
    "colab": {
      "provenance": [],
      "authorship_tag": "ABX9TyMLEKfcufbAZc9ZGa+NkKjd",
      "include_colab_link": true
    },
    "kernelspec": {
      "name": "python3",
      "display_name": "Python 3"
    },
    "language_info": {
      "name": "python"
    }
  },
  "cells": [
    {
      "cell_type": "markdown",
      "metadata": {
        "id": "view-in-github",
        "colab_type": "text"
      },
      "source": [
        "<a href=\"https://colab.research.google.com/github/SilviaMCSC/An-lise-de-Dados---Atividade-01/blob/main/Lista_de_atividades.ipynb\" target=\"_parent\"><img src=\"https://colab.research.google.com/assets/colab-badge.svg\" alt=\"Open In Colab\"/></a>"
      ]
    },
    {
      "cell_type": "markdown",
      "source": [
        "\n",
        "1- Qual é a saída do trecho de código a seguir?\n"
      ],
      "metadata": {
        "id": "iJg7BHyaM_Wk"
      }
    },
    {
      "cell_type": "code",
      "execution_count": null,
      "metadata": {
        "colab": {
          "base_uri": "https://localhost:8080/"
        },
        "id": "s25T1QHlM1sl",
        "outputId": "925f31cd-7e84-4336-fc72-5639cb622bc0"
      },
      "outputs": [
        {
          "output_type": "stream",
          "name": "stdout",
          "text": [
            "False\n",
            "True\n"
          ]
        }
      ],
      "source": [
        "x = 5 #variável x recebendo o valor 5\n",
        "y = 10 #variável y recebendo o valor 10\n",
        "z = 8 #variável z recebendo o valor 8\n",
        "\n",
        "print(x > y) # imprimi se x é maior que y. Tipo Booleano\n",
        "print(y > z) # imprimi se y é maior que z. tipo Booleano"
      ]
    },
    {
      "cell_type": "markdown",
      "source": [
        "2- Qual é a saída do trecho de código a seguir?\n",
        "\n"
      ],
      "metadata": {
        "id": "VrCNZaEWNqyO"
      }
    },
    {
      "cell_type": "code",
      "source": [
        "x = 1 #tipo int\n",
        "y = 1.0 # tipo float\n",
        "z = \"1\" #tipo String\n",
        "\n",
        "\n",
        "if x == y: # se x for igual a y faça\n",
        "  print (\"um\") #imprima um\n",
        "\n",
        "  if y == int (z): # Se y for igual a int(z) for faça\n",
        "    print(\"dois\") # imprima dois\n",
        "\n",
        "  elif x == y: # se x for igual a y faça\n",
        "    print(\"três\") # imprima três\n",
        "\n",
        "  else: # se não for nenhuma acima faça\n",
        "    print(\"quatro\") # imprima quatro\n",
        "\n"
      ],
      "metadata": {
        "colab": {
          "base_uri": "https://localhost:8080/"
        },
        "id": "MwZ6YY7kNwMF",
        "outputId": "ef0016b3-2038-4a36-f651-a11be00b01a1"
      },
      "execution_count": null,
      "outputs": [
        {
          "output_type": "stream",
          "name": "stdout",
          "text": [
            "um\n",
            "dois\n"
          ]
        }
      ]
    },
    {
      "cell_type": "markdown",
      "source": [
        "3- Qual é a saída do trecho de código?"
      ],
      "metadata": {
        "id": "l-jccNvzP_4W"
      }
    },
    {
      "cell_type": "code",
      "source": [
        "lst = [1, 2, 3, 4, 5] # lista com números sendo atribuída\n",
        "lst.insert(1, 6) # lista chama o método insert() para inserir novos elementos\n",
        "                  # ele está inserindo o nº 1 na posição 6 e empurra a lista para frente\n",
        "del lst[0] # método del sendo chamado para deletar o elemento do índice zero, no caso o nº 1\n",
        "lst.append(1) # lista chama o método append para adicionar um elemento à lista\n",
        "              # no caso, o nº um será adicionado ao final da lista\n",
        "\n",
        "print(lst) # imprima a lista"
      ],
      "metadata": {
        "colab": {
          "base_uri": "https://localhost:8080/"
        },
        "id": "L2_r4FdaQCGS",
        "outputId": "8c3985c0-6b29-454e-aab9-f5cd28ed094e"
      },
      "execution_count": null,
      "outputs": [
        {
          "output_type": "stream",
          "name": "stdout",
          "text": [
            "[6, 2, 3, 4, 5, 1]\n"
          ]
        }
      ]
    },
    {
      "cell_type": "markdown",
      "source": [
        "4- Qual é a saída do trecho de código?"
      ],
      "metadata": {
        "id": "gQ03YiQaSegX"
      }
    },
    {
      "cell_type": "code",
      "source": [
        "lst = [] # lst recebe uma lista vazia\n",
        "del lst # metodo del chamado para deletar a variávek lst\n",
        "print (lst) # imprima a variável lst"
      ],
      "metadata": {
        "colab": {
          "base_uri": "https://localhost:8080/",
          "height": 176
        },
        "id": "ktNeTLe6Sff7",
        "outputId": "4c6d5263-bb49-4382-fb9b-80b5ccebd0cd"
      },
      "execution_count": null,
      "outputs": [
        {
          "output_type": "error",
          "ename": "NameError",
          "evalue": "name 'lst' is not defined",
          "traceback": [
            "\u001b[0;31m---------------------------------------------------------------------------\u001b[0m",
            "\u001b[0;31mNameError\u001b[0m                                 Traceback (most recent call last)",
            "\u001b[0;32m<ipython-input-6-e07d51d76ced>\u001b[0m in \u001b[0;36m<cell line: 3>\u001b[0;34m()\u001b[0m\n\u001b[1;32m      1\u001b[0m \u001b[0mlst\u001b[0m \u001b[0;34m=\u001b[0m \u001b[0;34m[\u001b[0m\u001b[0;34m]\u001b[0m \u001b[0;31m# lst recebe uma lista vazia\u001b[0m\u001b[0;34m\u001b[0m\u001b[0;34m\u001b[0m\u001b[0m\n\u001b[1;32m      2\u001b[0m \u001b[0;32mdel\u001b[0m \u001b[0mlst\u001b[0m \u001b[0;31m# metodo del chamado para deletar a variávek lst\u001b[0m\u001b[0;34m\u001b[0m\u001b[0;34m\u001b[0m\u001b[0m\n\u001b[0;32m----> 3\u001b[0;31m \u001b[0mprint\u001b[0m \u001b[0;34m(\u001b[0m\u001b[0mlst\u001b[0m\u001b[0;34m)\u001b[0m \u001b[0;31m# imprima a variável lst\u001b[0m\u001b[0;34m\u001b[0m\u001b[0;34m\u001b[0m\u001b[0m\n\u001b[0m",
            "\u001b[0;31mNameError\u001b[0m: name 'lst' is not defined"
          ]
        }
      ]
    },
    {
      "cell_type": "markdown",
      "source": [
        "O erro ocorreu acima pois não há como imprimir uma lista que foi escluída!"
      ],
      "metadata": {
        "id": "05YvFflHTDjv"
      }
    },
    {
      "cell_type": "markdown",
      "source": [
        "5- Qual é a saída do trecho de código?"
      ],
      "metadata": {
        "id": "UxazfzNGTOs2"
      }
    },
    {
      "cell_type": "code",
      "source": [
        "lst = [1, [2, 3], 4] # variável lst recebendo uma lista de números com3 elementos\n",
        "                     # o número 1, uma lista com 2 e 3 e o número 4\n",
        "print (lst[1]) # imprima o elemento no índice 1\n",
        "print(len(lst)) # a função len está contando quantos elementos há na lista, no caso 3"
      ],
      "metadata": {
        "colab": {
          "base_uri": "https://localhost:8080/"
        },
        "id": "rSc6fnc9TSKT",
        "outputId": "8fefd392-7177-445b-aac8-cee13d22e2c0"
      },
      "execution_count": null,
      "outputs": [
        {
          "output_type": "stream",
          "name": "stdout",
          "text": [
            "[2, 3]\n",
            "3\n"
          ]
        }
      ]
    },
    {
      "cell_type": "markdown",
      "source": [
        "6- Qual é a saída do trecho de código?"
      ],
      "metadata": {
        "id": "sPm0y4ZpUnh9"
      }
    },
    {
      "cell_type": "code",
      "source": [
        "list1 = [\"A\", \"B\", \"C\"] # variável recebendo uma lista de Strings\n",
        "list2 = list1 #variável list2 recebe o valor que está na list1\n",
        "list3 = list2 # variável list3 recebo o valor qu está na variável list2\n",
        "\n",
        "del list1 [0]  # método del sendo chamado para deletar o elemento da list1 na posição 0\n",
        "del list2 [0] # método del sendo chamado para deletar o elemento da list2 na posição 0\n",
        "print(list3) # imprima o que estiver na list3"
      ],
      "metadata": {
        "colab": {
          "base_uri": "https://localhost:8080/"
        },
        "id": "5jXF6jNrUrYz",
        "outputId": "04333559-8c66-4d17-a277-467486037f02"
      },
      "execution_count": null,
      "outputs": [
        {
          "output_type": "stream",
          "name": "stdout",
          "text": [
            "['C']\n"
          ]
        }
      ]
    },
    {
      "cell_type": "markdown",
      "source": [
        "7- Qual é a saída do trecho de código?"
      ],
      "metadata": {
        "id": "paDidJ6BV49z"
      }
    },
    {
      "cell_type": "code",
      "source": [
        "list1 = [\"A\", \"B\", \"C\"] # variável recebendo uma lista de Strings\n",
        "list2 = list1 #variável list2 recebe o valor que está na list1\n",
        "list3 = list2 # variável list3 recebo o valor qu está na variável list2\n",
        "\n",
        "del list1 [0]  # método del sendo chamado para deletar o elemento da list1 na posição 0\n",
        "del list2  # método del sendo chamado para deletar a list2\n",
        "print(list3) # imprima o que estiver na list3"
      ],
      "metadata": {
        "colab": {
          "base_uri": "https://localhost:8080/"
        },
        "id": "1MvVyOedV8Cs",
        "outputId": "07728a4f-7013-4e3c-9169-85895127f8de"
      },
      "execution_count": null,
      "outputs": [
        {
          "output_type": "stream",
          "name": "stdout",
          "text": [
            "['B', 'C']\n"
          ]
        }
      ]
    },
    {
      "cell_type": "markdown",
      "source": [
        "8- Insira in ou not in ao invés de ??? para que o código produz o resultado\n",
        "esperado."
      ],
      "metadata": {
        "id": "42JnHnYpWTAn"
      }
    },
    {
      "cell_type": "code",
      "source": [
        "myList = [1, 2, \"in\", True, \"ABC\"]\n",
        "\n",
        "print(\"A\" in myList)  # Adiciona o operador \"in\" para verificar a presença de \"A\" na lista\n",
        "print(True in myList)  # verifica a presença de True na lista\n",
        "print(3 in myList)  # Verifica a presença de 3 na lista\n",
        "print(False in myList)  # Verifica a presença de False na lista\n"
      ],
      "metadata": {
        "colab": {
          "base_uri": "https://localhost:8080/"
        },
        "id": "G1pBqvVNWVyv",
        "outputId": "fb5f25d4-d638-424f-ecfb-e375ad9f6198"
      },
      "execution_count": null,
      "outputs": [
        {
          "output_type": "stream",
          "name": "stdout",
          "text": [
            "False\n",
            "True\n",
            "False\n",
            "False\n"
          ]
        }
      ]
    },
    {
      "cell_type": "markdown",
      "source": [
        "9- Qual é a saída do trecho de código?"
      ],
      "metadata": {
        "id": "7QqAgMOTYMr9"
      }
    },
    {
      "cell_type": "code",
      "source": [
        "myTup = (1, 2, 3) #variável recebendo uma tupla de números\n",
        "print (myTup[2]) # imprime o índice na posição 2 da lista que é o 3"
      ],
      "metadata": {
        "colab": {
          "base_uri": "https://localhost:8080/"
        },
        "id": "A3Cn9IZ4YPOw",
        "outputId": "f9805f95-1d21-44de-fd20-ab141ae2b59f"
      },
      "execution_count": null,
      "outputs": [
        {
          "output_type": "stream",
          "name": "stdout",
          "text": [
            "3\n"
          ]
        }
      ]
    },
    {
      "cell_type": "markdown",
      "source": [
        "10- Qual é a saída do trecho de código?"
      ],
      "metadata": {
        "id": "ywTeQLUKYk4o"
      }
    },
    {
      "cell_type": "code",
      "source": [
        "tup = 1, 2, 3  # variável tup recebendo números\n",
        "               # mesmo sem parênsteses isso é uma Tupla porque está seprada por vígula\n",
        "a, b, c = tup # atribuição de valores ao receber tup, sendo que\n",
        "               # a receberá o valor 1 e assim sucessivamente\n",
        "print ( a* b* c) # imprime a multiplicação dos valores que a, b e c receberam,\n"
      ],
      "metadata": {
        "colab": {
          "base_uri": "https://localhost:8080/"
        },
        "id": "-eE58TdaYnAa",
        "outputId": "23e1810c-33c5-4c19-a72f-4c510feb6526"
      },
      "execution_count": null,
      "outputs": [
        {
          "output_type": "stream",
          "name": "stdout",
          "text": [
            "6\n"
          ]
        }
      ]
    }
  ]
}